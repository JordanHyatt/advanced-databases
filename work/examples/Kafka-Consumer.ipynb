{
 "cells": [
  {
   "cell_type": "markdown",
   "id": "c9942291-bb11-4189-94e1-65019979f888",
   "metadata": {},
   "source": [
    "## Kafka Consumer with PoP (Plain Old Python)\n",
    "\n",
    "This example demonstrates how to consume a Kafka stream with Plain old Pythhon\n",
    "\n",
    "We use The Confluent Kafka module: \n",
    "\n",
    "Documentation: https://pypi.org/project/confluent-kafka/"
   ]
  },
  {
   "cell_type": "code",
   "execution_count": null,
   "id": "d244e064-9fc4-4f98-ad80-59a1863f22d1",
   "metadata": {},
   "outputs": [],
   "source": [
    "# Required import\n",
    "!pip install -q confluent-kafka"
   ]
  },
  {
   "cell_type": "markdown",
   "id": "a8185a60-0096-4ee6-8d15-9e6568eb2e63",
   "metadata": {},
   "source": [
    "## ATM Consumer Example\n",
    "\n",
    "This example will consume the ATM kafka stream (provided the producer is running and there is something to consume!)"
   ]
  },
  {
   "cell_type": "code",
   "execution_count": null,
   "id": "5c734a75-a0aa-447a-bc51-dd128a994dcf",
   "metadata": {},
   "outputs": [],
   "source": [
    "import json\n",
    "from confluent_kafka import Consumer\n",
    "\n",
    "consumer = Consumer({'bootstrap.servers' : 'broker:29092', 'group.id' : '*'})\n",
    "print(\"TOPICS\")\n",
    "topics = consumer.list_topics() # this is a python dictionary\n",
    "for topic in topics.topics.keys():\n",
    "    if not topic.startswith(\"_\"): # only show non-internal topics\n",
    "        print(topic)\n",
    "topic = input(\"Enter Kafaka topic to consume:\")\n",
    "consumer.subscribe([topic])\n",
    "\n",
    "try:\n",
    "    while True:\n",
    "        msg = consumer.poll(1.0)\n",
    "\n",
    "        if msg is None:\n",
    "            continue\n",
    "        if msg.error():\n",
    "            print(f\"Consumer error: {msg.error()}\")\n",
    "            continue\n",
    "\n",
    "        raw = msg.value().decode('utf-8')\n",
    "        payload = json.loads(raw)\n",
    "        print(f\"Received message: {payload}\")\n",
    "except KeyboardInterrupt:\n",
    "    consumer.close()    "
   ]
  },
  {
   "cell_type": "markdown",
   "id": "eb8c0d7f-4623-428d-a0e6-aad890b19af6",
   "metadata": {},
   "source": [
    "## Generic Consumer Code\n",
    "\n",
    "As you can see the boilerplate code to consume a stream is very similar the only real difference is the topic and the JSON payload on that topic."
   ]
  },
  {
   "cell_type": "code",
   "execution_count": null,
   "id": "16beb16e-ef4a-4cd3-ba53-a73de9b2e22c",
   "metadata": {},
   "outputs": [],
   "source": [
    "import json\n",
    "from confluent_kafka import Consumer\n",
    "\n",
    "consumer = Consumer({'bootstrap.servers' : 'broker:29092', 'group.id' : '*'})\n",
    "consumer.subscribe(['atm']) # topic\n",
    "\n",
    "try:\n",
    "    while True:\n",
    "        msg = consumer.poll(1.0)\n",
    "\n",
    "        if msg is None:\n",
    "            continue\n",
    "        if msg.error():\n",
    "            print(f\"Consumer error: {msg.error()}\")\n",
    "            continue\n",
    "\n",
    "        raw = msg.value().decode('utf-8')\n",
    "        payload = json.loads(raw) # de-serialize JSON in the stream to a Python dictionary!\n",
    "        print(f\"Received message: {payload['Id']} ${payload['Amount']}\")\n",
    "except KeyboardInterrupt:\n",
    "    consumer.close()    "
   ]
  },
  {
   "cell_type": "code",
   "execution_count": null,
   "id": "3ab10277-5f52-4109-aaf4-49ffe5b31ef8",
   "metadata": {},
   "outputs": [],
   "source": []
  }
 ],
 "metadata": {
  "kernelspec": {
   "display_name": "Python 3 (ipykernel)",
   "language": "python",
   "name": "python3"
  },
  "language_info": {
   "codemirror_mode": {
    "name": "ipython",
    "version": 3
   },
   "file_extension": ".py",
   "mimetype": "text/x-python",
   "name": "python",
   "nbconvert_exporter": "python",
   "pygments_lexer": "ipython3",
   "version": "3.9.6"
  }
 },
 "nbformat": 4,
 "nbformat_minor": 5
}
