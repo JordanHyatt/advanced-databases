{
 "cells": [
  {
   "cell_type": "markdown",
   "id": "ba0f4745-b9c7-40a4-a579-fd93b34a9df6",
   "metadata": {},
   "source": [
    "# Unit J\n",
    "# Search Database Model\n",
    "\n",
    "- Examples From Video Lecture \n"
   ]
  },
  {
   "cell_type": "code",
   "execution_count": 3,
   "id": "fedd29f1-8425-46f6-b7f0-67e19ef43340",
   "metadata": {},
   "outputs": [],
   "source": [
    "import pyspark\n",
    "from pyspark.sql import SparkSession\n",
    "# ELASTICSEARCH CONFIGURATION\n",
    "elastic_host = \"elasticsearch\"\n",
    "elastic_port = \"9200\"\n",
    "spark = SparkSession.builder \\\n",
    "    .master(\"local\") \\\n",
    "    .appName('jupyter-pyspark') \\\n",
    "    .config(\"spark.jars.packages\",\"org.elasticsearch:elasticsearch-spark-20_2.12:7.15.0\")\\\n",
    "    .config(\"spark.es.nodes\", elastic_host) \\\n",
    "    .config(\"spark.es.port\",elastic_port) \\\n",
    "    .getOrCreate()\n",
    "sc = spark.sparkContext\n",
    "sc.setLogLevel(\"ERROR\")"
   ]
  },
  {
   "cell_type": "markdown",
   "id": "63a8dd18-fbb4-4dbb-9a46-537517ed6e9f",
   "metadata": {},
   "source": [
    "## Elasticsearch and Kibana\n",
    "\n",
    "### Elasticsearch REST API\n",
    "\n",
    "- Use the HTTP protocol to add and query data in elasticsearch\n",
    "- open a terminal in Jupyter to run these from the Linux command prompt\n",
    "\n",
    "```\n",
    "# add three documents\n",
    "\n",
    "curl -X POST \"http://elasticsearch:9200/people/students\" -H 'Content-Type: application/json' -d '{ \"name\" : \"mike\", \"major\" : \"math\", \"gpa\" : 3.4 }'\n",
    "curl -X POST \"http://elasticsearch:9200/people/students\" -H 'Content-Type: application/json' -d '{ \"name\" : \"phil\", \"major\" : \"math\", \"gpa\" : 3.2 }'\n",
    "curl -X POST \"http://elasticsearch:9200/people/students\" -H 'Content-Type: application/json' -d '{ \"name\" : \"pete\", \"major\" : \"bio\", \"gpa\" : 3.7 }'\n",
    "\n",
    "# Get a count of students (documents)\n",
    "\n",
    "curl -X GET \"http://elasticsearch:9200/_cat/count/people\"\n",
    "\n",
    "#  Find the math majors\n",
    "\n",
    "curl -X GET  \"http://elasticsearch:9200/people/_search?pretty&q=major:math\"\n",
    "```\n",
    "\n",
    "- Type this into your web browser to find students with a GPA>3.3 \n",
    "- NOTE: It's localhost now because we are not inside a docker container.\n",
    "\n",
    "```\n",
    "http://localhost:9200/people/_search?pretty&q=gpa:[3.3 TO *]\n",
    "```\n",
    "\n",
    "### Kibana as a client of Elasticsearch\n",
    " \n",
    "- Kibana serves as an Elasticsearch client.\n",
    "- To view the people/students index, go to Management=> Stack Management=> Index Management\n",
    "    - Summary shows how many documents in the index\n",
    "    - Mappings shows the searchable fields discovered and their data types.\n",
    "- To use in Kibana, we must create a Kibana => Index Pattern\n",
    "    - There are text fiels like major and keyword fields like major.keyword for aggregations\n",
    "    - You can add custom fields by editing the value for example `deanslist` field as `emit( doc['gpa'].value > 3.3)`\n",
    "- Once your Index Pattern is created you can search : Analyticcs => Discover\n",
    "\n"
   ]
  },
  {
   "cell_type": "code",
   "execution_count": null,
   "id": "61233142-ec3b-47d0-960e-df4ebae44eb2",
   "metadata": {},
   "outputs": [],
   "source": []
  },
  {
   "cell_type": "markdown",
   "id": "f4c6a39a-d6a8-4576-b918-ae31dba626d7",
   "metadata": {},
   "source": [
    "## Tweet Simulator \n",
    "\n",
    "- Genenrate some fake tweets in quazi-real time as a streaming data source\n",
    "- Each tweet is posted to elasticsearch and echoed to the console\n",
    "- This code will run until the user Stops the Notebook Cell or the Tweet limit is hit."
   ]
  },
  {
   "cell_type": "code",
   "execution_count": null,
   "id": "a5c7f4e6-b63f-43a0-9b09-a1e0481c2d67",
   "metadata": {},
   "outputs": [],
   "source": [
    "from simtweet import generateRandomTweet\n",
    "import requests\n",
    "from time import sleep\n",
    "import random\n",
    "import json\n",
    "index = \"tweets\"\n",
    "url = f\"http://{elastic_host}:{elastic_port}/{index}\"\n",
    "headers = { \"Content-Type\" : \"application/json\" }\n",
    "tweet_limit = 25\n",
    "min_delay = 1\n",
    "max_delay = 15\n",
    "\n",
    "for i in range(tweet_limit):\n",
    "    sleep(random.randint(min_delay, max_delay))\n",
    "    tweet = generateRandomTweet()\n",
    "    endpoint = f\"{url}/_doc/{tweet['id']}\"\n",
    "    response = requests.post(endpoint, headers = headers, data = json.dumps(tweet))\n",
    "    response.raise_for_status()\n",
    "    print(f\"curl -X POST {endpoint} -H 'Content-Type: application/json' \\n\\t-d '{json.dumps(tweet)}'\")\n",
    "    "
   ]
  },
  {
   "cell_type": "markdown",
   "id": "c4998879-4989-4f16-ad87-e0ef1e1345a6",
   "metadata": {},
   "source": [
    "## Spark Elasticsearch\n",
    "\n",
    "The elasticsearch spark connector supports:\n",
    "\n",
    " - Writing Spark  DataFrames to an ES index\n",
    " - An entire ES index into a spark DataFrame\n",
    " - It does NOT support ES Queries.\n",
    " - It does not handle nested schemas without creating a customer mapping in elasticsearch"
   ]
  },
  {
   "cell_type": "code",
   "execution_count": 77,
   "id": "082f9f76-0fb6-4d27-b8c5-2f0963b11bcd",
   "metadata": {},
   "outputs": [
    {
     "name": "stdout",
     "output_type": "stream",
     "text": [
      "root\n",
      " |-- customer_id: integer (nullable = true)\n",
      " |-- customer_email: string (nullable = true)\n",
      " |-- customer_name: string (nullable = true)\n",
      " |-- customer_address: string (nullable = true)\n",
      " |-- customer_city: string (nullable = true)\n",
      " |-- customer_state: string (nullable = true)\n",
      " |-- customer_zip: integer (nullable = true)\n",
      " |-- order_id: integer (nullable = true)\n",
      " |-- order_date: string (nullable = true)\n",
      " |-- creditcard_number: string (nullable = true)\n",
      " |-- creditcard_exp_date: string (nullable = true)\n",
      " |-- order_total: double (nullable = true)\n",
      " |-- ship_via: string (nullable = true)\n",
      " |-- shipped_date: string (nullable = true)\n",
      " |-- product_id: integer (nullable = true)\n",
      " |-- order_item_id: integer (nullable = true)\n",
      " |-- order_qty: integer (nullable = true)\n",
      " |-- product_name: string (nullable = true)\n",
      " |-- product_retail_price: double (nullable = true)\n",
      "\n"
     ]
    }
   ],
   "source": [
    "fm = spark.read.option(\"inferSchema\",True).option(\"header\",True).csv(\"file:///home/jovyan/datasets/fudgemart/fudgemart-order-details.csv\")\n",
    "fm.printSchema()"
   ]
  },
  {
   "cell_type": "code",
   "execution_count": 81,
   "id": "8ab4279d-533b-4c36-8363-6e35e3d1fe46",
   "metadata": {},
   "outputs": [],
   "source": [
    "fm.write.mode(\"Overwrite\").format(\"es\").save(\"fm-order-details/_doc\")"
   ]
  },
  {
   "cell_type": "markdown",
   "id": "c848a368-d262-45a1-bc22-3c0a20d38c75",
   "metadata": {},
   "source": [
    "### NOTE: Wait a minute for Elasticsearch to catch up!!!!\n",
    "\n",
    "- Don't read until the mapping is created."
   ]
  },
  {
   "cell_type": "code",
   "execution_count": 84,
   "id": "6bc02003-e4ef-4934-b44a-d71cc8aa2599",
   "metadata": {},
   "outputs": [
    {
     "name": "stdout",
     "output_type": "stream",
     "text": [
      "+--------------------+-------------------+--------------------+-------------+--------------------+-----------+----------------+--------------+------------+--------------------+--------+-------------+---------+-----------+----------+--------------------+--------------------+--------------+--------------------+\n",
      "| creditcard_exp_date|  creditcard_number|    customer_address|customer_city|      customer_email|customer_id|   customer_name|customer_state|customer_zip|          order_date|order_id|order_item_id|order_qty|order_total|product_id|        product_name|product_retail_price|      ship_via|        shipped_date|\n",
      "+--------------------+-------------------+--------------------+-------------+--------------------+-----------+----------------+--------------+------------+--------------------+--------+-------------+---------+-----------+----------+--------------------+--------------------+--------------+--------------------+\n",
      "|2013-12-31 00:00:...| 644167 329790 0456|     2508 W Shaw Ave|       Fresno|    otyme@dayrep.com|         13|       Otto Tyme|            CA|       93711|2009-01-01 00:00:...|       1|            1|        2|      157.0|        14|      Comfor-fit Tee|                12.0|       JiffyEx|2009-01-10 00:00:...|\n",
      "|2013-12-31 00:00:...| 644167 329790 0456|     2508 W Shaw Ave|       Fresno|    otyme@dayrep.com|         13|       Otto Tyme|            CA|       93711|2009-01-01 00:00:...|       1|            2|        2|      157.0|        49|           Pedometer|                10.0|       JiffyEx|2009-01-10 00:00:...|\n",
      "|2013-12-31 00:00:...| 644167 329790 0456|     2508 W Shaw Ave|       Fresno|    otyme@dayrep.com|         13|       Otto Tyme|            CA|       93711|2009-01-01 00:00:...|       1|            3|        1|      157.0|        12|          Work Pants|                38.0|       JiffyEx|2009-01-10 00:00:...|\n",
      "|2013-12-31 00:00:...| 644167 329790 0456|     2508 W Shaw Ave|       Fresno|    otyme@dayrep.com|         13|       Otto Tyme|            CA|       93711|2009-01-01 00:00:...|       1|            4|        1|      157.0|        16|       X-Train Shoes|                75.0|       JiffyEx|2009-01-10 00:00:...|\n",
      "|2009-09-30 00:00:...|6459 5778 0191 1306|2401 Wisconsin Av...|   Washington| sbeeches@dayrep.com|         25|   Sandy Beeches|            DC|       20559|2009-01-01 00:00:...|       2|            1|        1|      255.0|        50|         Sport Cycle|               255.0|           UDS|2009-01-04 00:00:...|\n",
      "|2011-04-30 00:00:...|5385 4981 5320 9929|     789 E Mercy Ave|      Phoenix|    tanott@gustr.com|         19|        Ty Anott|            AZ|       85038|2009-01-01 00:00:...|       3|            1|        2|      206.0|        43|        Tennis Balls|                 8.0|Postal Service|2009-01-07 00:00:...|\n",
      "|2011-04-30 00:00:...|5385 4981 5320 9929|     789 E Mercy Ave|      Phoenix|    tanott@gustr.com|         19|        Ty Anott|            AZ|       85038|2009-01-01 00:00:...|       3|            2|        5|      206.0|        12|          Work Pants|                38.0|Postal Service|2009-01-07 00:00:...|\n",
      "|2010-07-31 00:00:...|453 20915 11179 671|     1555 W Lane Ave|     Columbus|lkarforless@super...|          1| Lisa Karforless|            OH|       43221|2009-01-02 00:00:...|       4|            1|        4|       80.0|        41|    Electric Griddle|                20.0|Postal Service|2009-01-08 00:00:...|\n",
      "|2015-12-31 00:00:...|  646045 4209176253|    2021 K Street Nw|   Washington|     gmoss@gustr.com|          4|     Growyn Moss|            DC|       20006|2009-01-02 00:00:...|       5|            1|        3|     765.95|        31|    \"10\"\" Miter Saw\"|               200.0|           UDS|2009-01-05 00:00:...|\n",
      "|2015-12-31 00:00:...|  646045 4209176253|    2021 K Street Nw|   Washington|     gmoss@gustr.com|          4|     Growyn Moss|            DC|       20006|2009-01-02 00:00:...|       5|            2|        2|     765.95|         4|         Dri-Fit Tee|                20.0|           UDS|2009-01-05 00:00:...|\n",
      "|2015-12-31 00:00:...|  646045 4209176253|    2021 K Street Nw|   Washington|     gmoss@gustr.com|          4|     Growyn Moss|            DC|       20006|2009-01-02 00:00:...|       5|            3|        2|     765.95|        18|          DVD Player|                45.0|           UDS|2009-01-05 00:00:...|\n",
      "|2015-12-31 00:00:...|  646045 4209176253|    2021 K Street Nw|   Washington|     gmoss@gustr.com|          4|     Growyn Moss|            DC|       20006|2009-01-02 00:00:...|       5|            4|        1|     765.95|        40|    Monsignor Coffee|                20.0|           UDS|2009-01-05 00:00:...|\n",
      "|2015-12-31 00:00:...|  646045 4209176253|    2021 K Street Nw|   Washington|     gmoss@gustr.com|          4|     Growyn Moss|            DC|       20006|2009-01-02 00:00:...|       5|            5|        1|     765.95|         1|Straight Claw Hammer|               15.95|           UDS|2009-01-05 00:00:...|\n",
      "|2011-03-31 00:00:...|   4556375310789120|      828 S Broadway|    Tarrytown|     jtyme@gustr.com|         18|     Justin Tyme|            NY|       10591|2009-01-02 00:00:...|       6|            1|        3|      320.0|        30|19.2v Drill Drive...|                90.0|Postal Service|2009-01-07 00:00:...|\n",
      "|2011-03-31 00:00:...|   4556375310789120|      828 S Broadway|    Tarrytown|     jtyme@gustr.com|         18|     Justin Tyme|            NY|       10591|2009-01-02 00:00:...|       6|            2|        1|      320.0|        25|      Computer Mouse|                10.0|Postal Service|2009-01-07 00:00:...|\n",
      "|2011-03-31 00:00:...|   4556375310789120|      828 S Broadway|    Tarrytown|     jtyme@gustr.com|         18|     Justin Tyme|            NY|       10591|2009-01-02 00:00:...|       6|            3|        1|      320.0|        41|    Electric Griddle|                20.0|Postal Service|2009-01-07 00:00:...|\n",
      "|2011-03-31 00:00:...|   4556375310789120|      828 S Broadway|    Tarrytown|     jtyme@gustr.com|         18|     Justin Tyme|            NY|       10591|2009-01-02 00:00:...|       6|            4|        1|      320.0|        15|      Running Shorts|                20.0|Postal Service|2009-01-07 00:00:...|\n",
      "|2010-03-31 00:00:...|      4220844936831|  9022 E Merchant Wy|    Fairfield|bdehatchett@dayre...|          7|Barry DeHatchett|            IA|       52556|2009-01-03 00:00:...|       7|            1|        1|      315.0|        30|19.2v Drill Drive...|                90.0|           UDS|2009-01-08 00:00:...|\n",
      "|2010-03-31 00:00:...|      4220844936831|  9022 E Merchant Wy|    Fairfield|bdehatchett@dayre...|          7|Barry DeHatchett|            IA|       52556|2009-01-03 00:00:...|       7|            2|        4|      315.0|        51|         Soccer Ball|                45.0|           UDS|2009-01-08 00:00:...|\n",
      "|2010-03-31 00:00:...|      4220844936831|  9022 E Merchant Wy|    Fairfield|bdehatchett@dayre...|          7|Barry DeHatchett|            IA|       52556|2009-01-03 00:00:...|       7|            3|        3|      315.0|        52|          Steam Iron|                15.0|           UDS|2009-01-08 00:00:...|\n",
      "+--------------------+-------------------+--------------------+-------------+--------------------+-----------+----------------+--------------+------------+--------------------+--------+-------------+---------+-----------+----------+--------------------+--------------------+--------------+--------------------+\n",
      "only showing top 20 rows\n",
      "\n"
     ]
    }
   ],
   "source": [
    "fm2 = spark.read.format(\"es\").load(\"fm-order-details/_doc\")\n",
    "fm2.show()"
   ]
  },
  {
   "cell_type": "code",
   "execution_count": null,
   "id": "58e4d266-63b8-4bf6-b74f-08308bfb3be0",
   "metadata": {},
   "outputs": [],
   "source": []
  }
 ],
 "metadata": {
  "kernelspec": {
   "display_name": "Python 3 (ipykernel)",
   "language": "python",
   "name": "python3"
  },
  "language_info": {
   "codemirror_mode": {
    "name": "ipython",
    "version": 3
   },
   "file_extension": ".py",
   "mimetype": "text/x-python",
   "name": "python",
   "nbconvert_exporter": "python",
   "pygments_lexer": "ipython3",
   "version": "3.9.6"
  }
 },
 "nbformat": 4,
 "nbformat_minor": 5
}
